{
 "cells": [
  {
   "cell_type": "markdown",
   "metadata": {},
   "source": [
    "## Data Cleaning\n",
    "First, load the data from our XLSX file."
   ]
  },
  {
   "cell_type": "code",
   "execution_count": 63,
   "metadata": {},
   "outputs": [
    {
     "name": "stdout",
     "output_type": "stream",
     "text": [
      "Index(['Sampler', 'Unnamed: 1', 'Unnamed: 2', 'S-1', 'S-1.1', 'S-1.2', 'S-1.3',\n",
      "       'S-1.4', 'S-1.5', 'S-1.6', 'S-1.7'],\n",
      "      dtype='object')\n"
     ]
    }
   ],
   "source": [
    "import pandas as pd\n",
    "\n",
    "edmonton_air_quality = pd.read_excel('data/Edmonton2016.xlsx', sheet_name='PM2.5-10')\n",
    "\n",
    "print(edmonton_air_quality.columns)"
   ]
  },
  {
   "cell_type": "markdown",
   "metadata": {},
   "source": [
    "So these column names don't make a lot of sense. When looking into the data, the first 10 rows are metadata."
   ]
  },
  {
   "cell_type": "code",
   "execution_count": 64,
   "metadata": {},
   "outputs": [
    {
     "name": "stdout",
     "output_type": "stream",
     "text": [
      "8  NAPS Site ID        Sampling Date Sample Type  PM2.5-10 PM2.5-10-MDL  \\\n",
      "9         90132  2016-01-01 00:00:00           R   28.1111      0.37037   \n",
      "10        90132  2016-01-04 00:00:00           R   14.8009      0.37037   \n",
      "11        90132  2016-01-07 00:00:00           R   2.75463      0.37037   \n",
      "12        90132  2016-01-10 00:00:00           R      -999         -999   \n",
      "13        90132  2016-01-13 00:00:00           R  0.666667      0.37037   \n",
      "\n",
      "8  PM2.5-10-Vflag    Pres. Temp. Start Time End Time Actual Volume  \n",
      "9                  93.5923    -3      00:00    24:00           2.4  \n",
      "10                 92.7924   -10      00:00    24:00           2.4  \n",
      "11                 93.5923  -9.3      00:00    24:00           2.4  \n",
      "12             M1     -999  -999       -999     -999          -999  \n",
      "13                 91.8591   3.1      00:00    24:00           2.4  \n"
     ]
    }
   ],
   "source": [
    "labels = (edmonton_air_quality.iloc[8, :])\n",
    "edmonton_air_quality = edmonton_air_quality[9:]\n",
    "edmonton_air_quality.columns = labels\n",
    "print(edmonton_air_quality.head())"
   ]
  },
  {
   "cell_type": "markdown",
   "metadata": {},
   "source": [
    "So our labels and data seem a little more sensible. To produce anything meaningful, it is important to engage our data and see if there are clear irregularities and outliers in our data. An useful procedure is to perform an ANOVA test or even plotting our data to see if we can catch the rogue datum."
   ]
  },
  {
   "cell_type": "code",
   "execution_count": 72,
   "metadata": {},
   "outputs": [
    {
     "data": {
      "image/png": "[encoded data removed]",
      "text/plain": [
       "<matplotlib.figure.Figure at 0x10e21c278>"
      ]
     },
     "metadata": {},
     "output_type": "display_data"
    }
   ],
   "source": [
    "import matplotlib.pyplot as plt\n",
    "plt.ylabel('Particulate Matter 2.5 µg/m3')\n",
    "plt.xlabel('Air Quality Sample Date')\n",
    "plt.title('Edmonton Air Quality')\n",
    "plt.plot(edmonton_air_quality['Sampling Date'], edmonton_air_quality['PM2.5-10'], 'bo')\n",
    "\n",
    "plt.show()"
   ]
  },
  {
   "cell_type": "code",
   "execution_count": null,
   "metadata": {},
   "outputs": [],
   "source": []
  }
 ],
 "metadata": {
  "kernelspec": {
   "display_name": "Python 3",
   "language": "python",
   "name": "python3"
  },
  "language_info": {
   "codemirror_mode": {
    "name": "ipython",
    "version": 3
   },
   "file_extension": ".py",
   "mimetype": "text/x-python",
   "name": "python",
   "nbconvert_exporter": "python",
   "pygments_lexer": "ipython3",
   "version": "3.6.3"
  }
 },
 "nbformat": 4,
 "nbformat_minor": 2
}
